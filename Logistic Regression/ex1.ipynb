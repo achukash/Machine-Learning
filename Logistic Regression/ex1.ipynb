{
 "cells": [
  {
   "cell_type": "code",
   "execution_count": 87,
   "id": "370c34a7",
   "metadata": {},
   "outputs": [],
   "source": [
    "import pandas as pd\n",
    "from sklearn.model_selection import train_test_split\n",
    "from sklearn.linear_model import LogisticRegression\n",
    "from sklearn import metrics\n",
    "import seaborn as sn"
   ]
  },
  {
   "cell_type": "code",
   "execution_count": 88,
   "id": "ec09dc28",
   "metadata": {},
   "outputs": [
    {
     "name": "stdout",
     "output_type": "stream",
     "text": [
      "(400, 4)\n"
     ]
    },
    {
     "data": {
      "text/plain": [
       "<bound method NDFrame.head of      admit    gre   gpa  rank\n",
       "0      0.0  380.0  3.61   3.0\n",
       "1      1.0  660.0  3.67   3.0\n",
       "2      1.0  800.0  4.00   1.0\n",
       "3      1.0  640.0  3.19   4.0\n",
       "4      0.0  520.0  2.93   4.0\n",
       "..     ...    ...   ...   ...\n",
       "395    0.0  620.0  4.00   2.0\n",
       "396    0.0  560.0  3.04   3.0\n",
       "397    0.0  460.0  2.63   2.0\n",
       "398    0.0  700.0  3.65   2.0\n",
       "399    0.0  600.0  3.89   3.0\n",
       "\n",
       "[400 rows x 4 columns]>"
      ]
     },
     "execution_count": 88,
     "metadata": {},
     "output_type": "execute_result"
    }
   ],
   "source": [
    "col_names = ['admit','gre','gpa','rank']\n",
    "data = pd.read_stata(\"binary.dta\")\n",
    "print(data.shape)\n",
    "data.head"
   ]
  },
  {
   "cell_type": "code",
   "execution_count": 89,
   "id": "44b80f6a",
   "metadata": {},
   "outputs": [
    {
     "data": {
      "text/plain": [
       "admit    0\n",
       "gre      0\n",
       "gpa      0\n",
       "rank     0\n",
       "dtype: int64"
      ]
     },
     "execution_count": 89,
     "metadata": {},
     "output_type": "execute_result"
    }
   ],
   "source": [
    "data.isnull().sum()"
   ]
  },
  {
   "cell_type": "code",
   "execution_count": null,
   "id": "26f17c14",
   "metadata": {},
   "outputs": [],
   "source": [
    "feature_cols = ['admit','gre','gpa','rank']\n",
    "x = data[feature_cols]\n",
    "y = data['admit']"
   ]
  },
  {
   "cell_type": "code",
   "execution_count": 91,
   "id": "bd8e8322",
   "metadata": {},
   "outputs": [
    {
     "data": {
      "text/plain": [
       "(320, 4)"
      ]
     },
     "metadata": {},
     "output_type": "display_data"
    },
    {
     "data": {
      "text/plain": [
       "(320,)"
      ]
     },
     "metadata": {},
     "output_type": "display_data"
    },
    {
     "data": {
      "text/plain": [
       "(80, 4)"
      ]
     },
     "metadata": {},
     "output_type": "display_data"
    },
    {
     "data": {
      "text/plain": [
       "(80,)"
      ]
     },
     "metadata": {},
     "output_type": "display_data"
    }
   ],
   "source": [
    "x_train, x_test, y_train, y_test = train_test_split(x,y,test_size=0.2, random_state=5)\n",
    "display(x_train.shape, y_train.shape, x_test.shape, y_test.shape)"
   ]
  },
  {
   "cell_type": "code",
   "execution_count": 92,
   "id": "9f135bdc",
   "metadata": {},
   "outputs": [],
   "source": [
    "model = LogisticRegression(solver=\"lbfgs\", max_iter=1000)"
   ]
  },
  {
   "cell_type": "code",
   "execution_count": 93,
   "id": "bd3638ce",
   "metadata": {},
   "outputs": [],
   "source": [
    "model.fit(x_train, y_train)\n",
    "y_pred = model.predict(x_test)"
   ]
  },
  {
   "cell_type": "code",
   "execution_count": 94,
   "id": "ee0d420b",
   "metadata": {},
   "outputs": [
    {
     "name": "stdout",
     "output_type": "stream",
     "text": [
      "Confusion Matrix :  [[54  0]\n",
      " [ 0 26]]\n",
      "Accuracy Score :  1.0\n",
      "Accuracy Score in percentage :  100 %\n"
     ]
    }
   ],
   "source": [
    "conf_mat = metrics.confusion_matrix(y_test, y_pred)\n",
    "print('Confusion Matrix : ', conf_mat)\n",
    "Accuracy_score = metrics.accuracy_score(y_test,y_pred)\n",
    "print(\"Accuracy Score : \", Accuracy_score)\n",
    "print('Accuracy Score in percentage : ', int(Accuracy_score*100), \"%\")"
   ]
  },
  {
   "cell_type": "code",
   "execution_count": 95,
   "id": "c03dda82",
   "metadata": {},
   "outputs": [
    {
     "data": {
      "text/plain": [
       "<Axes: xlabel='Predicted', ylabel='Actual'>"
      ]
     },
     "execution_count": 95,
     "metadata": {},
     "output_type": "execute_result"
    },
    {
     "data": {
      "image/png": "[encoded data removed]",
      "text/plain": [
       "<Figure size 640x480 with 2 Axes>"
      ]
     },
     "metadata": {},
     "output_type": "display_data"
    }
   ],
   "source": [
    "conf_mat = pd.crosstab(y_test, y_pred, rownames=['Actual'], colnames=['Predicted'])\n",
    "sn.heatmap(conf_mat, annot=True)"
   ]
  }
 ],
 "metadata": {
  "kernelspec": {
   "display_name": "Python 3",
   "language": "python",
   "name": "python3"
  },
  "language_info": {
   "codemirror_mode": {
    "name": "ipython",
    "version": 3
   },
   "file_extension": ".py",
   "mimetype": "text/x-python",
   "name": "python",
   "nbconvert_exporter": "python",
   "pygments_lexer": "ipython3",
   "version": "3.10.11"
  }
 },
 "nbformat": 4,
 "nbformat_minor": 5
}
